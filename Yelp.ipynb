{
 "cells": [
  {
   "cell_type": "markdown",
   "metadata": {
    "application/vnd.databricks.v1+cell": {
     "cellMetadata": {},
     "inputWidgets": {},
     "nuid": "96816ed7-b08a-4ca3-abb9-f99880c3535d",
     "showTitle": false,
     "title": ""
    }
   },
   "source": [
    "# Project 1 – databricks\n",
    "\n",
    "## Overview\n",
    " My company would like some queryable datasets instead of looking into these raw yelp data.\n",
    "\n",
    " I will read the raw data, then join and clean the data to create a unified dataset that is queryable. Finally, based on some real-world business questions, I will query the unified dataset and obtain results."
   ]
  },
  {
   "cell_type": "markdown",
   "metadata": {
    "application/vnd.databricks.v1+cell": {
     "cellMetadata": {},
     "inputWidgets": {},
     "nuid": "aa626c35-e232-47ed-8b8e-16b16d1527ee",
     "showTitle": false,
     "title": ""
    }
   },
   "source": [
    "## Raw to Bronze"
   ]
  },
  {
   "cell_type": "code",
   "execution_count": 0,
   "metadata": {
    "application/vnd.databricks.v1+cell": {
     "cellMetadata": {
      "byteLimit": 2048000,
      "rowLimit": 10000
     },
     "inputWidgets": {},
     "nuid": "c36b05e9-049e-4510-bebe-5ed7d02a1f92",
     "showTitle": false,
     "title": ""
    }
   },
   "outputs": [
    {
     "output_type": "stream",
     "name": "stdout",
     "output_type": "stream",
     "text": [
      "/FileStore/tables/yelp_academic_dataset_tip.json\n['business_id', 'compliment_count', 'date', 'text', 'user_id']\n\n/FileStore/tables/yelp_academic_dataset_checkin.json\n['business_id', 'date']\n\n/FileStore/tables/yelp_academic_dataset_business.json\n['address', 'attributes', 'business_id', 'categories', 'city', 'hours', 'is_open', 'latitude', 'longitude', 'name', 'postal_code', 'review_count', 'stars', 'state']\n\n/FileStore/tables/yelp_academic_dataset_review_1.json\n['business_id', 'cool', 'date', 'funny', 'review_id', 'stars', 'text', 'useful', 'user_id']\n\n/FileStore/tables/yelp_academic_dataset_review_2.json\n['business_id', 'cool', 'date', 'funny', 'review_id', 'stars', 'text', 'useful', 'user_id']\n\n/FileStore/tables/yelp_academic_dataset_review_3.json\n['business_id', 'cool', 'date', 'funny', 'review_id', 'stars', 'text', 'useful', 'user_id']\n\n/FileStore/tables/yelp_academic_dataset_user_1.json\n['average_stars', 'compliment_cool', 'compliment_cute', 'compliment_funny', 'compliment_hot', 'compliment_list', 'compliment_more', 'compliment_note', 'compliment_photos', 'compliment_plain', 'compliment_profile', 'compliment_writer', 'cool', 'elite', 'fans', 'friends', 'funny', 'name', 'review_count', 'useful', 'user_id', 'yelping_since']\n\n/FileStore/tables/yelp_academic_dataset_user_2.json\n['average_stars', 'compliment_cool', 'compliment_cute', 'compliment_funny', 'compliment_hot', 'compliment_list', 'compliment_more', 'compliment_note', 'compliment_photos', 'compliment_plain', 'compliment_profile', 'compliment_writer', 'cool', 'elite', 'fans', 'friends', 'funny', 'name', 'review_count', 'useful', 'user_id', 'yelping_since']\n\n"
     ]
    }
   ],
   "source": [
    "from pyspark.sql import SparkSession\n",
    "from pyspark.sql.functions import col, regexp_replace\n",
    "from pyspark.sql.functions import col\n",
    "\n",
    "# set Spark session\n",
    "spark = SparkSession.builder \\\n",
    "    .appName(\"Yelp Data Processing\") \\\n",
    "    .getOrCreate()\n",
    "\n",
    "\n",
    "# read each json file\n",
    "def read_json(file_path):\n",
    "    infer_schema = \"false\"\n",
    "    first_row_is_header = \"false\"\n",
    "    delimiter = \",\"\n",
    "    file_type = \"json\"\n",
    "    df = spark.read.format(file_type) \\\n",
    "        .option(\"inferSchema\", infer_schema) \\\n",
    "        .option(\"header\", first_row_is_header) \\\n",
    "        .option(\"sep\", delimiter) \\\n",
    "        .load(file_path)\n",
    "    print(file_path)\n",
    "    print(df.columns)\n",
    "    print()\n",
    "    return df\n",
    "\n",
    "# row to bronze function, read all the datas and union them\n",
    "def raw_to_bronze(file_paths):\n",
    "    # read the columns of tip\n",
    "    df_tip = read_json(file_paths[0]).select(\n",
    "            \"user_id\",\n",
    "            \"business_id\",\n",
    "            \"text\",\n",
    "            \"date\",\n",
    "            \"compliment_count\"\n",
    "        )\n",
    "    #rename the columns\n",
    "    df_tip = df_tip.withColumnRenamed(\"text\", \"tip_text\") \\\n",
    "               .withColumnRenamed(\"date\", \"tip_date\")\n",
    "\n",
    "    # read the columns of checkin\n",
    "    df_checkin = read_json(file_paths[1])\n",
    "    df_checkin = df_checkin.withColumn(\"business_id\", regexp_replace(col(\"business_id\"), \"-\", \"\"))\n",
    "    df_checkin = df_checkin.select(\n",
    "        \"date\",\n",
    "        \"business_id\"\n",
    "    )\n",
    "\n",
    "    # read the columns of business\n",
    "    df_business = read_json(file_paths[2]).select(\n",
    "        \"business_id\",\n",
    "        \"name\",\n",
    "        \"address\",\n",
    "        \"city\",\n",
    "        \"state\",\n",
    "        \"postal_code\",\n",
    "        \"latitude\",\n",
    "        \"longitude\",\n",
    "        \"Stars\",\n",
    "        \"Review_count\",\n",
    "        \"is_open\",\n",
    "        \"attributes\",\n",
    "        \"categories\",\n",
    "        \"hours\"\n",
    "    )\n",
    "    #rename the columns\n",
    "    df_business = df_business.withColumnRenamed(\"review_count\", \"business_review_count\") \\\n",
    "        .withColumnRenamed(\"stars\", \"business_stars\") \\\n",
    "        .withColumnRenamed(\"name\", \"business_name\") \n",
    "    df_review_1 = read_json(file_paths[3])\n",
    "    df_review_2 = read_json(file_paths[4])\n",
    "    df_review_3 = read_json(file_paths[5])\n",
    "    df_user_1 = read_json(file_paths[6])\n",
    "    df_user_2 = read_json(file_paths[7])\n",
    "\n",
    "    # read the columns of review\n",
    "    df_review = df_review_1.union(df_review_2).union(df_review_3).select(\n",
    "        \"review_id\",\n",
    "        \"user_id\",\n",
    "        \"business_id\",\n",
    "        \"stars\",\n",
    "        \"useful\",\n",
    "        \"funny\",\n",
    "        \"cool\",\n",
    "        \"text\",\n",
    "        \"date\"\n",
    "    )\n",
    "    #rename the columns\n",
    "    df_review = df_review.withColumnRenamed(\"cool\", \"review_cool\") \\\n",
    "                     .withColumnRenamed(\"text\", \"review_text\") \\\n",
    "                     .withColumnRenamed(\"date\", \"review_date\") \\\n",
    "                     .withColumnRenamed(\"funny\", \"review_funny\") \\\n",
    "                     .withColumnRenamed(\"stars\", \"review_stars\")\n",
    "\n",
    "    # delete df_review_1、df_review_2和df_review_3\n",
    "    df_review_1.unpersist()\n",
    "    df_review_2.unpersist()\n",
    "    df_review_3.unpersist()\n",
    "\n",
    "    # read the columns of user\n",
    "    df_user = df_user_1.union(df_user_2).select(\n",
    "        \"user_id\",\n",
    "        \"name\",\n",
    "        \"review_count\",\n",
    "        \"yelping_since\",\n",
    "        \"useful\",\n",
    "        \"funny\",\n",
    "        \"cool\",\n",
    "        \"elite\",\n",
    "        \"friends\"\n",
    "    )\n",
    "    #rename the columns\n",
    "    df_user = df_user.withColumnRenamed(\"cool\", \"user_cool\") \\\n",
    "                 .withColumnRenamed(\"funny\", \"user_funny\") \\\n",
    "                 .withColumnRenamed(\"useful\", \"user_useful\") \\\n",
    "                 .withColumnRenamed(\"review_count\", \"user_review_count\") \\\n",
    "                .withColumnRenamed(\"name\", \"user_name\") \n",
    "\n",
    "    # delete df_user_1、df_user_2\n",
    "    df_user_1.unpersist()\n",
    "    df_user_2.unpersist()\n",
    "\n",
    "    df_all = df_business.join(df_review, \"business_id\", \"left_outer\") \\\n",
    "    .join(df_checkin, \"business_id\", \"left_outer\") \\\n",
    "    .join(df_user, \"user_id\", \"left_outer\") \\\n",
    "    .join(df_tip, [\"user_id\",\"business_id\"], \"left_outer\") \n",
    "\n",
    "    #return df_tip, df_checkin, df_business, df_review, df_user\n",
    "    return df_all\n",
    "\n",
    "# the file paths\n",
    "file_paths = [\"/FileStore/tables/yelp_academic_dataset_tip.json\", \\\n",
    "            \"/FileStore/tables/yelp_academic_dataset_checkin.json\", \\\n",
    "            \"/FileStore/tables/yelp_academic_dataset_business.json\", \\\n",
    "            \"/FileStore/tables/yelp_academic_dataset_review_1.json\", \\\n",
    "            \"/FileStore/tables/yelp_academic_dataset_review_2.json\", \\\n",
    "            \"/FileStore/tables/yelp_academic_dataset_review_3.json\", \\\n",
    "            \"/FileStore/tables/yelp_academic_dataset_user_1.json\", \\\n",
    "            \"/FileStore/tables/yelp_academic_dataset_user_2.json\" ]\n",
    "\n",
    "df_bronze = raw_to_bronze(file_paths)"
   ]
  },
  {
   "cell_type": "markdown",
   "metadata": {
    "application/vnd.databricks.v1+cell": {
     "cellMetadata": {},
     "inputWidgets": {},
     "nuid": "5151af0f-0daa-4c1d-8a0e-857057b8c8f5",
     "showTitle": false,
     "title": ""
    }
   },
   "source": [
    "## Bronze to Silver"
   ]
  },
  {
   "cell_type": "code",
   "execution_count": 0,
   "metadata": {
    "application/vnd.databricks.v1+cell": {
     "cellMetadata": {
      "byteLimit": 2048000,
      "rowLimit": 10000
     },
     "inputWidgets": {},
     "nuid": "dd25094f-e199-4ee9-9adf-a8a081a228b9",
     "showTitle": false,
     "title": ""
    }
   },
   "outputs": [],
   "source": [
    "from pyspark.sql.functions import col, when, lit\n",
    "from delta.tables import DeltaTable\n",
    "\n",
    "# save bronze delta table to disk\n",
    "bronze_delta_path = \"/FileStore/tables/yelp_bronze_delta\"\n",
    "df_bronze.write.format(\"delta\").mode(\"overwrite\").save(bronze_delta_path)\n",
    "# read Delta table\n",
    "df_bronze_delta = spark.read.format(\"delta\").load(bronze_delta_path)\n"
   ]
  },
  {
   "cell_type": "code",
   "execution_count": 0,
   "metadata": {
    "application/vnd.databricks.v1+cell": {
     "cellMetadata": {
      "byteLimit": 2048000,
      "rowLimit": 10000
     },
     "inputWidgets": {},
     "nuid": "f33d7f83-3965-4452-9a89-3371c4b9c223",
     "showTitle": false,
     "title": ""
    }
   },
   "outputs": [],
   "source": [
    "from pyspark.sql import functions as F\n",
    "\n",
    "#bronze_to_silver to do data cleaning\n",
    "def bronze_to_silver(df_bronze):\n",
    "    #remove the useless columns\n",
    "    drop_columns = [\"address\", \"attributes\", \"hours\", \"date\", \"tip_text\", \"user_useful\", \"user_funny\", \"user_cool\", \\\n",
    "        \"friends\", \"user_review_count\", \"yelping_since\", \"elite\"]\n",
    "    df_silver = df_bronze.drop(*drop_columns)\n",
    "    # filter is_open = 0 \n",
    "    df_silver = df_silver.filter(F.col(\"is_open\") != 0)\n",
    "\n",
    "    # filter is_open、business_id、review_stars、user_id is and some other columns is NULL\n",
    "    df_silver = df_silver.filter((F.col(\"is_open\").isNotNull()) &\n",
    "                                    (F.col(\"business_id\").isNotNull()) &\n",
    "                                    (F.col(\"review_stars\").isNotNull()) &\n",
    "                                    (F.col(\"user_id\").isNotNull()) &\n",
    "                                    (F.col(\"state\").isNotNull()) &\n",
    "                                    (F.col(\"city\").isNotNull()))\n",
    "    #remove the duplicated rows\n",
    "    df_silver = df_silver.dropDuplicates()\n",
    "    return df_silver\n",
    "\n",
    "df_silver = bronze_to_silver(df_bronze)\n"
   ]
  },
  {
   "cell_type": "code",
   "execution_count": 0,
   "metadata": {
    "application/vnd.databricks.v1+cell": {
     "cellMetadata": {},
     "inputWidgets": {},
     "nuid": "ab6f76af-b9db-48ff-8f1f-3983a87bfc8d",
     "showTitle": false,
     "title": ""
    }
   },
   "outputs": [],
   "source": [
    "# save silver delta table to disk\n",
    "silver_delta_path = \"/FileStore/tables/yelp_silver_delta\"\n",
    "df_silver.write.format(\"delta\").mode(\"overwrite\").save(silver_delta_path)\n",
    "# read Delta table\n",
    "df_silver_delta = spark.read.format(\"delta\").load(silver_delta_path)"
   ]
  },
  {
   "cell_type": "markdown",
   "metadata": {
    "application/vnd.databricks.v1+cell": {
     "cellMetadata": {},
     "inputWidgets": {},
     "nuid": "c2f8338e-776e-49bf-ad19-584c4f1dae30",
     "showTitle": false,
     "title": ""
    }
   },
   "source": [
    "## Query for Some Business Questions"
   ]
  },
  {
   "cell_type": "code",
   "execution_count": 0,
   "metadata": {
    "application/vnd.databricks.v1+cell": {
     "cellMetadata": {
      "byteLimit": 2048000,
      "rowLimit": 10000
     },
     "inputWidgets": {},
     "nuid": "9bc00a28-817d-4c96-a5ca-c35bdb59e772",
     "showTitle": true,
     "title": ""
    }
   },
   "outputs": [
    {
     "output_type": "stream",
     "name": "stdout",
     "output_type": "stream",
     "text": [
      "+--------------------+--------------------+-----------------+\n|         business_id|       business_name|unique_user_count|\n+--------------------+--------------------+-----------------+\n|_ab50qdWOk0DdB6XO...|   Acme Oyster House|             7568|\n|ac1AeYqs8Z4_e2X5M...|        Oceana Grill|             7401|\n|GXFMD0Z4jEVZBCsbP...|Hattie B’s Hot Ch...|             6093|\n|ytynqOUb3hjKeJfRj...|Reading Terminal ...|             5721|\n|oBNrLz4EDhiscSlbO...|Ruby Slipper - Ne...|             5193|\n|iSRTaT9WngzB8JJ2Y...| Mother's Restaurant|             5185|\n|VQcCL9PiNL_wkGf-u...|         Royal House|             5070|\n|_C7QiQQc47AOEv4PE...|  Commander's Palace|             4877|\n|GBTPC53ZrG1ZBY3DT...|                Luke|             4554|\n|6a4gLLFSgr-Q6CZXD...|              Cochon|             4422|\n|PP3BBaVxZLcJU54uP...|Pat's King of Steaks|             4250|\n|1b5mnK8bMnnju_cvU...| Biscuit Love: Gulch|             4207|\n|I_3LMZ_1m2mzR0oLI...|  Pappy's Smokehouse|             3999|\n|VaO-VW3e1kARkU9bP...|Felix's Restauran...|             3966|\n|qb28j-FNX1_6xm7u3...|          Gumbo Shop|             3902|\n|gTC8IQ_i8zXytWSly...|      Cochon Butcher|             3837|\n|yPSejq3_erxo9zdVY...|          Los Agaves|             3835|\n|VVH6k9-ycttH3TV_l...|Willie Mae's Scot...|             3582|\n|IkY2ticzHEn4QFn8h...|       Geno's Steaks|             3401|\n|wz8ZPfySQczcPgSyd...|Grand Sierra Reso...|             3346|\n|QHWYlmVbLC3K6eglW...|                Datz|             3261|\n|9PZxjhTIU7OgPIzuG...|              El Vez|             3187|\n|DcBLYSvOuWcNReolR...|Drago's Seafood R...|             3160|\n|XnQ84ylyAZwh-XfHG...|        Coop's Place|             3157|\n|L5LLN0RafiV1Z9cdd...|               Ulele|             3066|\n|ctHjyadbDQAtUFfkc...|               Zahav|             3065|\n|VAeEXLbEcI9Emt9KG...|        The Pharmacy|             3054|\n|U3grYFIeu6RgAAQgd...|Brophy Bros - San...|             2940|\n|dsfRniRgfbDjC8os8...|  Bern's Steak House|             2924|\n|6ajnOk0GcY9xbb5Oc...|            Barbuzzo|             2893|\n+--------------------+--------------------+-----------------+\nonly showing top 30 rows\n\n"
     ]
    }
   ],
   "source": [
    "from pyspark.sql import functions as F\n",
    "\n",
    "df_user_count = df_silver.groupBy(\"business_id\", \"business_name\") \\\n",
    "                                .agg(F.countDistinct(\"user_id\").alias(\"unique_user_count\")) \\\n",
    "                                .orderBy(F.desc(\"unique_user_count\"))\n",
    "\n",
    "# show the result\n",
    "df_user_count.show(30)\n"
   ]
  },
  {
   "cell_type": "markdown",
   "metadata": {
    "application/vnd.databricks.v1+cell": {
     "cellMetadata": {},
     "inputWidgets": {},
     "nuid": "5b0aba03-ba02-4cfa-af94-4215649fca3a",
     "showTitle": false,
     "title": ""
    }
   },
   "source": [
    "a. How many businesses take place in each state?"
   ]
  },
  {
   "cell_type": "code",
   "execution_count": 0,
   "metadata": {
    "application/vnd.databricks.v1+cell": {
     "cellMetadata": {
      "byteLimit": 2048000,
      "rowLimit": 10000
     },
     "inputWidgets": {},
     "nuid": "90012c27-3fa8-4d24-b8f3-dde367273937",
     "showTitle": false,
     "title": ""
    }
   },
   "outputs": [
    {
     "output_type": "stream",
     "name": "stdout",
     "output_type": "stream",
     "text": [
      "+-----+---------------------+\n|state|unique_business_count|\n+-----+---------------------+\n|   PA|                26289|\n|   FL|                21540|\n|   TN|                 9600|\n|   IN|                 8946|\n|   MO|                 8363|\n|   AZ|                 8108|\n|   LA|                 7676|\n|   NJ|                 7031|\n|   NV|                 6277|\n|   AB|                 4346|\n|   CA|                 4065|\n|   ID|                 3783|\n|   DE|                 1894|\n|   IL|                 1765|\n|   TX|                    4|\n|   MA|                    2|\n|   WA|                    2|\n|   CO|                    1|\n|   UT|                    1|\n|   MI|                    1|\n+-----+---------------------+\nonly showing top 20 rows\n\n"
     ]
    }
   ],
   "source": [
    "df_state_count = df_silver.groupBy(\"state\") \\\n",
    "                                 .agg(F.countDistinct(\"business_id\").alias(\"unique_business_count\")) \\\n",
    "                                 .orderBy(F.desc(\"unique_business_count\"))\n",
    "\n",
    "# show the result\n",
    "df_state_count.show()"
   ]
  },
  {
   "cell_type": "markdown",
   "metadata": {
    "application/vnd.databricks.v1+cell": {
     "cellMetadata": {},
     "inputWidgets": {},
     "nuid": "5c86c652-f034-4382-b666-d162beb90a4b",
     "showTitle": false,
     "title": ""
    }
   },
   "source": [
    "b. How many businesses take place in each city?"
   ]
  },
  {
   "cell_type": "code",
   "execution_count": 0,
   "metadata": {
    "application/vnd.databricks.v1+cell": {
     "cellMetadata": {
      "byteLimit": 2048000,
      "rowLimit": 10000
     },
     "inputWidgets": {},
     "nuid": "399c8a64-dddd-4d18-a470-115b083a2364",
     "showTitle": false,
     "title": ""
    }
   },
   "outputs": [
    {
     "output_type": "stream",
     "name": "stdout",
     "output_type": "stream",
     "text": [
      "+----------------+---------------------+\n|            city|unique_business_count|\n+----------------+---------------------+\n|    Philadelphia|                10542|\n|          Tucson|                 7533|\n|           Tampa|                 7219|\n|    Indianapolis|                 5894|\n|       Nashville|                 5398|\n|            Reno|                 4762|\n|     New Orleans|                 4649|\n|        Edmonton|                 3916|\n|     Saint Louis|                 3403|\n|   Santa Barbara|                 3020|\n|           Boise|                 2461|\n|      Clearwater|                 1815|\n|          Sparks|                 1378|\n|Saint Petersburg|                 1367|\n|        Metairie|                 1336|\n|      Wilmington|                 1192|\n|        Franklin|                 1135|\n|       St. Louis|                 1054|\n|  St. Petersburg|                  916|\n|        Meridian|                  900|\n+----------------+---------------------+\nonly showing top 20 rows\n\n"
     ]
    }
   ],
   "source": [
    "df_city_count = df_silver.groupBy(\"city\") \\\n",
    "                                 .agg(F.countDistinct(\"business_id\").alias(\"unique_business_count\")) \\\n",
    "                                 .orderBy(F.desc(\"unique_business_count\"))\n",
    "\n",
    "# show the result\n",
    "df_city_count.show()"
   ]
  },
  {
   "cell_type": "markdown",
   "metadata": {
    "application/vnd.databricks.v1+cell": {
     "cellMetadata": {},
     "inputWidgets": {},
     "nuid": "66bcea7d-d2f2-485e-b338-d220b00b4cab",
     "showTitle": false,
     "title": ""
    }
   },
   "source": [
    "c. What kind of business do they have the most in each state?"
   ]
  },
  {
   "cell_type": "code",
   "execution_count": 0,
   "metadata": {
    "application/vnd.databricks.v1+cell": {
     "cellMetadata": {
      "byteLimit": 2048000,
      "rowLimit": 10000
     },
     "inputWidgets": {},
     "nuid": "eac26f80-27e2-4a12-8e18-398debdad288",
     "showTitle": false,
     "title": ""
    }
   },
   "outputs": [
    {
     "output_type": "stream",
     "name": "stdout",
     "output_type": "stream",
     "text": [
      "+-----+--------------------+--------------+\n|state|          categories|business_count|\n+-----+--------------------+--------------+\n|   AZ|Restaurants, Mexican|            58|\n|   CA|Restaurants, Mexican|            21|\n|   CA|Auto Repair, Auto...|            21|\n|   ID|Beauty & Spas, Na...|            27|\n|   LA|Beauty & Spas, Na...|            48|\n|   MI|Oil Change Statio...|             1|\n|   NJ|  Restaurants, Pizza|            82|\n|   NV|Restaurants, Mexican|            27|\n|   NV|Automotive, Auto ...|            27|\n|   NV|Mexican, Restaurants|            27|\n|   AB|Beauty & Spas, Na...|            34|\n|   CO|Photographers, Ev...|             1|\n|   DE|  Restaurants, Pizza|            26|\n|   FL|Beauty & Spas, Na...|           150|\n|   HI|Cosmetic Surgeons...|             1|\n|   IL|Nail Salons, Beau...|            20|\n|   IN|Nail Salons, Beau...|            89|\n|   MA|Home Services, Ho...|             1|\n|   MA|Local Services, S...|             1|\n|   MO|Beauty & Spas, Na...|            80|\n+-----+--------------------+--------------+\nonly showing top 20 rows\n\n"
     ]
    }
   ],
   "source": [
    "from pyspark.sql.window import Window\n",
    "# Group by state, and count the number of each type of business.\n",
    "df_business_state_count = df_silver.groupBy(\"state\",  \"categories\") \\\n",
    "                                    .agg(F.countDistinct(\"business_id\").alias(\"business_count\")) \\\n",
    "                                    .orderBy(\"state\",  F.desc(\"business_count\"))\n",
    "# most common business\n",
    "windowSpec = Window.partitionBy(\"state\").orderBy(F.desc(\"business_count\"))\n",
    "df_most_common_state_business = df_business_state_count.withColumn(\"rank\", F.rank().over(windowSpec)) \\\n",
    "                                          .filter(F.col(\"rank\") == 1) \\\n",
    "                                          .select(\"state\", \"categories\", \"business_count\")\n",
    "\n",
    "# show the result\n",
    "df_most_common_state_business.show()\n",
    "\n"
   ]
  },
  {
   "cell_type": "markdown",
   "metadata": {
    "application/vnd.databricks.v1+cell": {
     "cellMetadata": {},
     "inputWidgets": {},
     "nuid": "13a0837d-c460-4e08-8ceb-914c70e8657b",
     "showTitle": false,
     "title": ""
    }
   },
   "source": [
    "d. What kind of business do they have the most in each city?"
   ]
  },
  {
   "cell_type": "code",
   "execution_count": 0,
   "metadata": {
    "application/vnd.databricks.v1+cell": {
     "cellMetadata": {
      "byteLimit": 2048000,
      "rowLimit": 10000
     },
     "inputWidgets": {},
     "nuid": "d62f6408-a527-45c2-8508-d3a4c1d7afd4",
     "showTitle": false,
     "title": ""
    }
   },
   "outputs": [
    {
     "output_type": "stream",
     "name": "stdout",
     "output_type": "stream",
     "text": [
      "+------------+--------------------+--------------+\n|        city|          categories|business_count|\n+------------+--------------------+--------------+\n| AB Edmonton|Hair Salons, Beau...|             1|\n|    Abington|Hair Salons, Beau...|             3|\n|       Afton|   Food Trucks, Food|             1|\n|Apollo Beach|Beauty & Spas, Na...|             3|\n|Bargersville|Event Planning & ...|             1|\n|Bargersville|American (New), S...|             1|\n|Bargersville|Vietnamese, Sushi...|             1|\n|        Bear| Pets, Veterinarians|             1|\n|        Bear|Movers, Home Serv...|             1|\n|        Bear|Home Services, Re...|             1|\n|        Bear|Apartments, Home ...|             1|\n|        Bear|Beauty & Spas, Ma...|             1|\n| Beech Grove|Karaoke, American...|             1|\n| Beech Grove|Barbers, Beauty &...|             1|\n| Beech Grove|Pubs, Bars, Night...|             1|\n| Beech Grove|   Shopping, Jewelry|             1|\n| Beech Grove|Cupcakes, Bakerie...|             1|\n| Beech Grove|Breakfast & Brunc...|             1|\n| Beech Grove|Fast Food, Seafoo...|             1|\n| Beech Grove|Shopping, Florist...|             1|\n+------------+--------------------+--------------+\nonly showing top 20 rows\n\n"
     ]
    }
   ],
   "source": [
    "# Group by city, and count the number of each type of business.\n",
    "df_business_city_count = df_silver.groupBy(\"city\", \"categories\") \\\n",
    "                                    .agg(F.countDistinct(\"business_id\").alias(\"business_count\")) \\\n",
    "                                    .orderBy(\"city\", F.desc(\"business_count\"))\n",
    "\n",
    "# most common business\n",
    "windowSpec = Window.partitionBy(\"city\").orderBy(F.desc(\"business_count\"))\n",
    "\n",
    "df_most_common_city_business = df_business_city_count.withColumn(\"rank\", F.rank().over(windowSpec)) \\\n",
    "                                          .filter(F.col(\"rank\") == 1) \\\n",
    "                                          .select(\"city\", \"categories\", \"business_count\")\n",
    "\n",
    "# 显示结果\n",
    "df_most_common_city_business.show()"
   ]
  },
  {
   "cell_type": "markdown",
   "metadata": {
    "application/vnd.databricks.v1+cell": {
     "cellMetadata": {},
     "inputWidgets": {},
     "nuid": "49e1faf4-b823-4205-bcc6-0b2056f7a305",
     "showTitle": false,
     "title": ""
    }
   },
   "source": [
    "e. What time do people usually write reviews?"
   ]
  },
  {
   "cell_type": "code",
   "execution_count": 0,
   "metadata": {
    "application/vnd.databricks.v1+cell": {
     "cellMetadata": {
      "byteLimit": 2048000,
      "rowLimit": 10000
     },
     "inputWidgets": {},
     "nuid": "e4149783-8dd2-4013-a3cb-27de626ff2c0",
     "showTitle": false,
     "title": ""
    }
   },
   "outputs": [
    {
     "output_type": "stream",
     "name": "stdout",
     "output_type": "stream",
     "text": [
      "+----+------------+\n|hour|review_count|\n+----+------------+\n|  19|      384770|\n|  18|      384574|\n|   0|      381556|\n|   1|      377021|\n|  20|      376172|\n|  23|      373278|\n|  21|      366103|\n|  17|      364696|\n|  22|      363110|\n|   2|      342747|\n|  16|      335389|\n|  15|      296573|\n|   3|      279770|\n|  14|      248207|\n|   4|      204469|\n|  13|      184845|\n|   5|      133916|\n|  12|      113063|\n|   6|       82762|\n|  11|       60108|\n+----+------------+\nonly showing top 20 rows\n\n"
     ]
    }
   ],
   "source": [
    "# extract hour from \n",
    "df_review_hour = df_silver.withColumn(\"hour\", F.hour(\"review_date\"))\n",
    "\n",
    "# grouby by hour, count the number of unique review_id\n",
    "df_hour_count = df_review_hour.groupBy(\"hour\") \\\n",
    "                              .agg(F.countDistinct(\"review_id\").alias(\"review_count\")) \\\n",
    "                              .orderBy(F.desc(\"review_count\"))\n",
    "\n",
    "# show the result\n",
    "df_hour_count.show()\n"
   ]
  },
  {
   "cell_type": "markdown",
   "metadata": {
    "application/vnd.databricks.v1+cell": {
     "cellMetadata": {},
     "inputWidgets": {},
     "nuid": "7782426c-d926-474c-9c23-04da485b8bd5",
     "showTitle": false,
     "title": ""
    }
   },
   "source": [
    "f. What Are the Average Review Stars of Each Business?"
   ]
  },
  {
   "cell_type": "markdown",
   "metadata": {
    "application/vnd.databricks.v1+cell": {
     "cellMetadata": {},
     "inputWidgets": {},
     "nuid": "09b74970-bc7e-4600-8f9c-129fb071bcf9",
     "showTitle": false,
     "title": ""
    }
   },
   "source": []
  },
  {
   "cell_type": "code",
   "execution_count": 0,
   "metadata": {
    "application/vnd.databricks.v1+cell": {
     "cellMetadata": {
      "byteLimit": 2048000,
      "rowLimit": 10000
     },
     "inputWidgets": {},
     "nuid": "cae6d6bd-230d-45e7-9f35-4337359febf1",
     "showTitle": false,
     "title": ""
    }
   },
   "outputs": [
    {
     "output_type": "stream",
     "name": "stdout",
     "output_type": "stream",
     "text": [
      "+--------------------+--------------------+----------------+\n|         business_id|       business_name|avg_review_stars|\n+--------------------+--------------------+----------------+\n|oDnnlCOYpkMZwOv0o...|Truong & Company ...|             5.0|\n|cA3FPFwFxDe58HXUG...|Meranova Bed & Br...|             5.0|\n|vt0Hqc2iDd2YrIc-k...|Wright & Feusier ...|             5.0|\n|kSKyOrJELZz_AzGkv...|        Mattias Blom|             5.0|\n|e-5mSfiD_aT32KgzN...| Second Wind Massage|             5.0|\n|_Hgl8YKcQG0DjC9FD...|Bay Area Endodont...|             5.0|\n|et9os3PW4Tm5SB9eB...|        The Wellnest|             5.0|\n|HL2NuAsbNZx9hgPEp...|Santa Barbara Tra...|             5.0|\n|jNR888ACyw4Xoqjx-...|Amber Light Voice...|             5.0|\n|dSrJFTreQg2feow9Y...|    A-1 Auto Service|             5.0|\n|nHENI2LyfkixJJrSG...|Lafayette Square ...|             5.0|\n|yRDO7_CCE9iaDxepL...|  Evan Hathaway, DDS|             5.0|\n|R3ljmQ_pHq1PnRzuW...|TriStar Building ...|             5.0|\n|dQWgXOG5KScufoiS6...|West Deptford Tra...|             5.0|\n|WokA2k1h3xuWYl6P1...|   SPT Home Services|             5.0|\n|4QvZpSrOMpvsbcl3Z...|Sierra Nevada ska...|             5.0|\n|gMNqq4XWErJb0P1Mr...|Darling Divas Nov...|             5.0|\n|WLs-9Xuk3fKnO2A0A...|    Airplant Alchemy|             5.0|\n|AOf_rPp9WyKAM_kgb...|The New Orleans K...|             5.0|\n|Du7HVIHh7uZQukLR0...|   We’re On The Move|             5.0|\n+--------------------+--------------------+----------------+\nonly showing top 20 rows\n\n"
     ]
    }
   ],
   "source": [
    "df_review_stars_avg = df_silver.groupBy(\"business_id\", \"business_name\") \\\n",
    "                                       .agg(F.avg(\"review_stars\").alias(\"avg_review_stars\")) \\\n",
    "                                       .orderBy(F.desc(\"avg_review_stars\"))\n",
    "\n",
    "# show the result\n",
    "df_review_stars_avg.show()\n"
   ]
  },
  {
   "cell_type": "code",
   "execution_count": 0,
   "metadata": {
    "application/vnd.databricks.v1+cell": {
     "cellMetadata": {},
     "inputWidgets": {},
     "nuid": "db5b40ee-8d03-42fc-89bd-ab9ed274af10",
     "showTitle": false,
     "title": ""
    }
   },
   "outputs": [],
   "source": []
  }
 ],
 "metadata": {
  "application/vnd.databricks.v1+notebook": {
   "dashboards": [],
   "language": "python",
   "notebookMetadata": {
    "pythonIndentUnit": 4
   },
   "notebookName": "Yelp",
   "widgets": {}
  }
 },
 "nbformat": 4,
 "nbformat_minor": 0
}
